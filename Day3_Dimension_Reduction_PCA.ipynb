{
 "cells": [
  {
   "cell_type": "markdown",
   "metadata": {},
   "source": [
    "# PCA"
   ]
  },
  {
   "cell_type": "markdown",
   "metadata": {},
   "source": [
    "### PCA 플로우\n",
    "\n",
    "* 데이터 나열\n",
    "* 데이터 중심 정하기\n",
    "* 데이터의 중심으로 원점 이동\n",
    "* 원점 지나는 직선 그리기(Randomly)\n",
    "* 데이터에 fit한 직선으로 회전(최소거리 d)\n",
    "* Scaling으로 EigenVector 만들기\n",
    "* PC-n의 진행\n",
    "* 각 PC축 회전\n",
    "* 데이터 복원\n",
    "\n",
    "-------------------------\n",
    "\n",
    "### PCA 플로우 AS Coding\n",
    "\n",
    "1. 필요한 Python 패키지(numpy, pandas 등) 임포트\n",
    "2. 전체 dataset 로드\n",
    "3. dataset에서 Dimension Reduction에 사용할 Feature 선택\n",
    "4. 선택 데이터의 covariance matrix 연산 & 확인\n",
    "5. covariance matrix의 eigen value와 eigen vector 값 확인\n",
    "6. eigen value와 eigen vector를 ascending sort(내림차순 정렬)\n",
    "7. dataset의 total covariance 백분율로 eigen value 연산 및 확인\n",
    "8. Minimum composition variance 구성에 필요한 eigen value 및 eigen vector 선택\n",
    "9. 선택 eigen vector X Dataset을 통해 PCA 완료\n",
    "10. PCA 결과 Plotting"
   ]
  },
  {
   "cell_type": "markdown",
   "metadata": {},
   "source": [
    "### 1. 필요한 Python 패키지(numpy, pandas 등) 임포트"
   ]
  },
  {
   "cell_type": "code",
   "execution_count": 1,
   "metadata": {},
   "outputs": [],
   "source": [
    "import pandas as pd\n",
    "import numpy as np\n",
    "import matplotlib.pyplot as plt"
   ]
  },
  {
   "cell_type": "markdown",
   "metadata": {},
   "source": [
    "### 2. 전체 dataset 로드"
   ]
  },
  {
   "cell_type": "code",
   "execution_count": 2,
   "metadata": {},
   "outputs": [
    {
     "data": {
      "text/html": [
       "<div>\n",
       "<style scoped>\n",
       "    .dataframe tbody tr th:only-of-type {\n",
       "        vertical-align: middle;\n",
       "    }\n",
       "\n",
       "    .dataframe tbody tr th {\n",
       "        vertical-align: top;\n",
       "    }\n",
       "\n",
       "    .dataframe thead th {\n",
       "        text-align: right;\n",
       "    }\n",
       "</style>\n",
       "<table border=\"1\" class=\"dataframe\">\n",
       "  <thead>\n",
       "    <tr style=\"text-align: right;\">\n",
       "      <th></th>\n",
       "      <th>Sepal Length</th>\n",
       "      <th>Sepal Width</th>\n",
       "      <th>Petal Length</th>\n",
       "      <th>Petal Width</th>\n",
       "      <th>Specis</th>\n",
       "    </tr>\n",
       "  </thead>\n",
       "  <tbody>\n",
       "    <tr>\n",
       "      <th>0</th>\n",
       "      <td>5.1</td>\n",
       "      <td>3.5</td>\n",
       "      <td>1.4</td>\n",
       "      <td>0.2</td>\n",
       "      <td>Iris-setosa</td>\n",
       "    </tr>\n",
       "    <tr>\n",
       "      <th>1</th>\n",
       "      <td>4.9</td>\n",
       "      <td>3.0</td>\n",
       "      <td>1.4</td>\n",
       "      <td>0.2</td>\n",
       "      <td>Iris-setosa</td>\n",
       "    </tr>\n",
       "    <tr>\n",
       "      <th>2</th>\n",
       "      <td>4.7</td>\n",
       "      <td>3.2</td>\n",
       "      <td>1.3</td>\n",
       "      <td>0.2</td>\n",
       "      <td>Iris-setosa</td>\n",
       "    </tr>\n",
       "    <tr>\n",
       "      <th>3</th>\n",
       "      <td>4.6</td>\n",
       "      <td>3.1</td>\n",
       "      <td>1.5</td>\n",
       "      <td>0.2</td>\n",
       "      <td>Iris-setosa</td>\n",
       "    </tr>\n",
       "    <tr>\n",
       "      <th>4</th>\n",
       "      <td>5.0</td>\n",
       "      <td>3.6</td>\n",
       "      <td>1.4</td>\n",
       "      <td>0.2</td>\n",
       "      <td>Iris-setosa</td>\n",
       "    </tr>\n",
       "  </tbody>\n",
       "</table>\n",
       "</div>"
      ],
      "text/plain": [
       "   Sepal Length  Sepal Width  Petal Length  Petal Width       Specis\n",
       "0           5.1          3.5           1.4          0.2  Iris-setosa\n",
       "1           4.9          3.0           1.4          0.2  Iris-setosa\n",
       "2           4.7          3.2           1.3          0.2  Iris-setosa\n",
       "3           4.6          3.1           1.5          0.2  Iris-setosa\n",
       "4           5.0          3.6           1.4          0.2  Iris-setosa"
      ]
     },
     "execution_count": 2,
     "metadata": {},
     "output_type": "execute_result"
    }
   ],
   "source": [
    "# define dataframe\n",
    "\n",
    "df = pd.read_csv('data/iris_sample_data.csv', header=None,\n",
    "                 names=['Sepal Length', 'Sepal Width', 'Petal Length', 'Petal Width', 'Specis'])\n",
    "df.head()"
   ]
  },
  {
   "cell_type": "markdown",
   "metadata": {},
   "source": [
    "### 3. dataset에서 Dimension Reduction에 사용할 Feature 선택"
   ]
  },
  {
   "cell_type": "code",
   "execution_count": 3,
   "metadata": {},
   "outputs": [
    {
     "data": {
      "text/html": [
       "<div>\n",
       "<style scoped>\n",
       "    .dataframe tbody tr th:only-of-type {\n",
       "        vertical-align: middle;\n",
       "    }\n",
       "\n",
       "    .dataframe tbody tr th {\n",
       "        vertical-align: top;\n",
       "    }\n",
       "\n",
       "    .dataframe thead th {\n",
       "        text-align: right;\n",
       "    }\n",
       "</style>\n",
       "<table border=\"1\" class=\"dataframe\">\n",
       "  <thead>\n",
       "    <tr style=\"text-align: right;\">\n",
       "      <th></th>\n",
       "      <th>Sepal Length</th>\n",
       "      <th>Sepal Width</th>\n",
       "    </tr>\n",
       "  </thead>\n",
       "  <tbody>\n",
       "    <tr>\n",
       "      <th>0</th>\n",
       "      <td>5.1</td>\n",
       "      <td>3.5</td>\n",
       "    </tr>\n",
       "    <tr>\n",
       "      <th>1</th>\n",
       "      <td>4.9</td>\n",
       "      <td>3.0</td>\n",
       "    </tr>\n",
       "    <tr>\n",
       "      <th>2</th>\n",
       "      <td>4.7</td>\n",
       "      <td>3.2</td>\n",
       "    </tr>\n",
       "    <tr>\n",
       "      <th>3</th>\n",
       "      <td>4.6</td>\n",
       "      <td>3.1</td>\n",
       "    </tr>\n",
       "    <tr>\n",
       "      <th>4</th>\n",
       "      <td>5.0</td>\n",
       "      <td>3.6</td>\n",
       "    </tr>\n",
       "  </tbody>\n",
       "</table>\n",
       "</div>"
      ],
      "text/plain": [
       "   Sepal Length  Sepal Width\n",
       "0           5.1          3.5\n",
       "1           4.9          3.0\n",
       "2           4.7          3.2\n",
       "3           4.6          3.1\n",
       "4           5.0          3.6"
      ]
     },
     "execution_count": 3,
     "metadata": {},
     "output_type": "execute_result"
    }
   ],
   "source": [
    "# only showing column of 'Sepal Length' and 'Sepal Width'\n",
    "\n",
    "df = df[['Sepal Length', 'Sepal Width']]\n",
    "df.head()"
   ]
  },
  {
   "cell_type": "code",
   "execution_count": 4,
   "metadata": {},
   "outputs": [
    {
     "data": {
      "image/png": "[encoded data removed]",
      "text/plain": [
       "<Figure size 720x504 with 1 Axes>"
      ]
     },
     "metadata": {
      "needs_background": "light"
     },
     "output_type": "display_data"
    }
   ],
   "source": [
    "# visualize the dataset by plotting\n",
    "# data of the Sepal Length Vs Sepal Width\n",
    "\n",
    "plt.figure(figsize=(10, 7))\n",
    "plt.scatter(df['Sepal Length'], df['Sepal Width']);\n",
    "plt.xlabel('Sepal Length(mm)');\n",
    "plt.ylabel('Sepal Width(mm)');\n",
    "plt.title('Sepal Length versus Width');"
   ]
  },
  {
   "cell_type": "markdown",
   "metadata": {},
   "source": [
    "### 4. 선택 데이터의 covariance matrix 연산 & 확인"
   ]
  },
  {
   "cell_type": "code",
   "execution_count": 5,
   "metadata": {},
   "outputs": [
    {
     "name": "stdout",
     "output_type": "stream",
     "text": [
      "Sepal Length    5.843333\n",
      "Sepal Width     3.054000\n",
      "dtype: float64\n",
      "------------------------------------\n",
      "Sepal Length    0.828066\n",
      "Sepal Width     0.433594\n",
      "dtype: float64\n",
      "------------------------------------\n",
      "Sepal Length    0.685694\n",
      "Sepal Width     0.188004\n",
      "dtype: float64\n",
      "------------------------------------\n",
      "              Sepal Length  Sepal Width\n",
      "Sepal Length      0.685694    -0.039268\n",
      "Sepal Width      -0.039268     0.188004\n"
     ]
    }
   ],
   "source": [
    "# the mean, std, variance, covariance value w/pandas\n",
    "\n",
    "print(df.mean())\n",
    "print('------------------------------------')\n",
    "print(df.std())\n",
    "print('------------------------------------')\n",
    "print(df.var())\n",
    "print('------------------------------------')\n",
    "print(df.cov())"
   ]
  },
  {
   "cell_type": "code",
   "execution_count": 6,
   "metadata": {},
   "outputs": [
    {
     "name": "stdout",
     "output_type": "stream",
     "text": [
      "[5.84333333 3.054     ]\n",
      "------------------------------------\n",
      "[0.82530129 0.43214658]\n",
      "------------------------------------\n",
      "[0.68112222 0.18675067]\n",
      "------------------------------------\n",
      "[[ 0.68569351 -0.03926846]\n",
      " [-0.03926846  0.18800403]]\n"
     ]
    }
   ],
   "source": [
    "# the mean, std, variance, covariance value w/numpy\n",
    "\n",
    "print(np.mean(df.values, axis=0))\n",
    "print('------------------------------------')\n",
    "print(np.std(df.values, axis=0))\n",
    "print('------------------------------------')\n",
    "print(np.var(df.values, axis=0))\n",
    "print('------------------------------------')\n",
    "print(np.cov(df.values.T))"
   ]
  },
  {
   "cell_type": "markdown",
   "metadata": {},
   "source": [
    "### 5. covariance matrix의 eigen value와 eigen vector 값 확인 & 6. eigen value와 eigen vector를 descending sort(내림차순 정렬)\n",
    "\n",
    "참고 : https://numpy.org/doc/stable/reference/generated/numpy.linalg.svd.html"
   ]
  },
  {
   "cell_type": "code",
   "execution_count": 7,
   "metadata": {},
   "outputs": [
    {
     "data": {
      "text/plain": [
       "array([[ 0.68569351, -0.03926846],\n",
       "       [-0.03926846,  0.18800403]])"
      ]
     },
     "execution_count": 7,
     "metadata": {},
     "output_type": "execute_result"
    }
   ],
   "source": [
    "# the covariance matrix for the selected data\n",
    "# transpose is required to ensure the covariance matrix is based on features, not samples data\n",
    "\n",
    "data = np.cov(df.values.T)\n",
    "data"
   ]
  },
  {
   "cell_type": "code",
   "execution_count": 8,
   "metadata": {},
   "outputs": [],
   "source": [
    "# eigenvalues and eigenvectors w/numpy\n",
    "\n",
    "eigenvectors, eigenvalues, _ = np.linalg.svd(data, full_matrices=False)     # full_matrics=False : 축소형"
   ]
  },
  {
   "cell_type": "code",
   "execution_count": 9,
   "metadata": {},
   "outputs": [
    {
     "data": {
      "text/plain": [
       "array([0.6887728 , 0.18492474])"
      ]
     },
     "execution_count": 9,
     "metadata": {},
     "output_type": "execute_result"
    }
   ],
   "source": [
    "# printout eigenvalues\n",
    "\n",
    "eigenvalues"
   ]
  },
  {
   "cell_type": "code",
   "execution_count": 10,
   "metadata": {},
   "outputs": [
    {
     "data": {
      "text/plain": [
       "array([0.6887728 , 0.87369754])"
      ]
     },
     "execution_count": 10,
     "metadata": {},
     "output_type": "execute_result"
    }
   ],
   "source": [
    "# eigenvalues as a percentage of the total variance\n",
    "# eigenvalues 'cumulative sum' function in numpy\n",
    "\n",
    "eigenvalues = np.cumsum(eigenvalues)\n",
    "eigenvalues"
   ]
  },
  {
   "cell_type": "code",
   "execution_count": 11,
   "metadata": {},
   "outputs": [
    {
     "data": {
      "text/plain": [
       "array([[-0.99693955,  0.07817635],\n",
       "       [ 0.07817635,  0.99693955]])"
      ]
     },
     "execution_count": 11,
     "metadata": {},
     "output_type": "execute_result"
    }
   ],
   "source": [
    "# printout eigenvectors\n",
    "\n",
    "eigenvectors"
   ]
  },
  {
   "cell_type": "code",
   "execution_count": 12,
   "metadata": {},
   "outputs": [
    {
     "data": {
      "text/plain": [
       "(2, 2)"
      ]
     },
     "execution_count": 12,
     "metadata": {},
     "output_type": "execute_result"
    }
   ],
   "source": [
    "# the shape of the eigenvector matrix\n",
    "\n",
    "eigenvectors.shape"
   ]
  },
  {
   "cell_type": "markdown",
   "metadata": {},
   "source": [
    "### 7. dataset의 total covariance 백분율로 eigen value 연산 및 확인"
   ]
  },
  {
   "cell_type": "code",
   "execution_count": 13,
   "metadata": {},
   "outputs": [
    {
     "data": {
      "text/plain": [
       "array([0.78834238, 1.        ])"
      ]
     },
     "execution_count": 13,
     "metadata": {},
     "output_type": "execute_result"
    }
   ],
   "source": [
    "# eigenvalues as a percentage of the variance w/dataset\n",
    "\n",
    "# eigenvalues = np.cumsum(eigenvalues)\n",
    "eigenvalues /= eigenvalues.max()\n",
    "eigenvalues"
   ]
  },
  {
   "cell_type": "markdown",
   "metadata": {},
   "source": [
    "### 8. Minimum composition variance 구성에 필요한 eigen value 및 eigen vector 선택"
   ]
  },
  {
   "cell_type": "code",
   "execution_count": 14,
   "metadata": {},
   "outputs": [
    {
     "data": {
      "text/plain": [
       "array([-0.99693955,  0.07817635])"
      ]
     },
     "execution_count": 14,
     "metadata": {},
     "output_type": "execute_result"
    }
   ],
   "source": [
    "# values for the first eigenvector in the eigenvector matrix\n",
    "\n",
    "p = eigenvectors[0]\n",
    "p"
   ]
  },
  {
   "cell_type": "markdown",
   "metadata": {},
   "source": [
    "### 9. 선택 eigen vector X Dataset을 통해 PCA 완료"
   ]
  },
  {
   "cell_type": "code",
   "execution_count": 15,
   "metadata": {},
   "outputs": [
    {
     "data": {
      "text/plain": [
       "array([-4.81077444, -4.65047471, -4.43545153, -4.34357521, -4.70326285,\n",
       "       -5.07858577, -4.32012231, -4.71889812, -4.15982257, -4.64265708,\n",
       "       -5.09422104, -4.51951021, -4.55078076, -4.05231098, -5.46954395,\n",
       "       -5.33857945, -5.07858577, -4.81077444, -5.38548526, -4.78732154,\n",
       "       -5.11767394, -4.79513917, -4.30448703, -4.82640971, -4.51951021,\n",
       "       -4.75016867, -4.71889812, -4.9104684 , -4.91828603, -4.43545153,\n",
       "       -4.54296312, -5.11767394, -4.86356259, -5.15482681, -4.64265708,\n",
       "       -4.73453339, -5.20955026, -4.64265708, -4.15200494, -4.81859208,\n",
       "       -4.71108049, -4.30642234, -4.13636967, -4.71108049, -4.78732154,\n",
       "       -4.55078076, -4.78732154, -4.33575758, -4.99452708, -4.72671576,\n",
       "       -6.72841249, -6.13024876, -6.63653617, -5.30336189, -6.26121325,\n",
       "       -5.46366162, -6.02273717, -4.69738052, -6.35308957, -4.97300948,\n",
       "       -4.82834502, -5.64741426, -5.80964929, -5.8546198 , -5.35615003,\n",
       "       -6.43714826, -5.34833239, -5.57117321, -6.0090372 , -5.38742057,\n",
       "       -5.63177899, -5.86243744, -6.08527825, -5.86243744, -6.15370166,\n",
       "       -6.34527194, -6.56029512, -6.44496589, -5.75492585, -5.47929689,\n",
       "       -5.29554425, -5.29554425, -5.57117321, -5.77056112, -5.14894448,\n",
       "       -5.71583767, -6.43714826, -6.10091352, -5.34833239, -5.28772662,\n",
       "       -5.27990898, -5.84680217, -5.57899084, -4.80489211, -5.3717853 ,\n",
       "       -5.44802635, -5.45584398, -5.95431376, -4.8889508 , -5.46366162,\n",
       "       -6.02273717, -5.57117321, -6.84374171, -6.05400771, -6.24557798,\n",
       "       -7.34221148, -4.68956289, -7.05094726, -6.48405407, -6.89652985,\n",
       "       -6.22994271, -6.16933694, -6.54465985, -5.48711452, -5.56335557,\n",
       "       -6.13024876, -6.24557798, -7.37936436, -7.47317598, -5.80964929,\n",
       "       -6.62871853, -5.36396766, -7.45754071, -6.06964298, -6.42151299,\n",
       "       -6.9278004 , -5.96213139, -5.84680217, -6.1615193 , -6.94343567,\n",
       "       -7.15845885, -7.57875226, -6.1615193 , -6.06182535, -5.87807271,\n",
       "       -7.44190544, -6.01491953, -6.13806639, -5.74710821, -6.63653617,\n",
       "       -6.43714826, -6.63653617, -5.57117321, -6.52902458, -6.42151299,\n",
       "       -6.44496589, -6.08527825, -6.24557798, -5.91522558, -5.64741426])"
      ]
     },
     "execution_count": 15,
     "metadata": {},
     "output_type": "execute_result"
    }
   ],
   "source": [
    "# matrix multiplication of the pricipal component with the transpose of the dataset\n",
    "# without transpose, multiplication could not occur\n",
    "\n",
    "X_T_P = p.dot(df.values.T)\n",
    "X_T_P"
   ]
  },
  {
   "cell_type": "markdown",
   "metadata": {},
   "source": [
    "### 10. PCA 결과 Plotting"
   ]
  },
  {
   "cell_type": "code",
   "execution_count": 16,
   "metadata": {},
   "outputs": [
    {
     "data": {
      "image/png": "[encoded data removed]",
      "text/plain": [
       "<Figure size 720x504 with 1 Axes>"
      ]
     },
     "metadata": {
      "needs_background": "light"
     },
     "output_type": "display_data"
    }
   ],
   "source": [
    "# plotting\n",
    "\n",
    "plt.figure(figsize=(10, 7))\n",
    "plt.plot(X_T_P);\n",
    "plt.title('PCA of iris');\n",
    "plt.xlabel('sample data');\n",
    "plt.ylabel('component value');"
   ]
  }
 ],
 "metadata": {
  "kernelspec": {
   "display_name": "Python 3",
   "language": "python",
   "name": "python3"
  },
  "language_info": {
   "codemirror_mode": {
    "name": "ipython",
    "version": 3
   },
   "file_extension": ".py",
   "mimetype": "text/x-python",
   "name": "python",
   "nbconvert_exporter": "python",
   "pygments_lexer": "ipython3",
   "version": "3.7.3"
  }
 },
 "nbformat": 4,
 "nbformat_minor": 2
}
