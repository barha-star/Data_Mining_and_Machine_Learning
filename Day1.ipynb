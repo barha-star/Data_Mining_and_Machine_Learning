{
 "cells": [
  {
   "cell_type": "markdown",
   "metadata": {},
   "source": [
    "## 지진 데이터\n",
    "\n",
    "USGS(US Geological Survey) API 데이터  \n",
    "(출처 : https://earthquake.usgs.gov/fdsnws/event/1/)  \n",
    "  \n",
    "데이터 샘플 : data/example_data.csv"
   ]
  },
  {
   "cell_type": "code",
   "execution_count": 3,
   "metadata": {},
   "outputs": [
    {
     "data": {
      "text/plain": [
       "array([('2018-10-13 11:10:23.560', '262km NW of Ozernovskiy, Russia', 'mww', 6.7, 'green', 1),\n",
       "       ('2018-10-13 04:34:15.580', '25km E of Bitung, Indonesia', 'mww', 5.2, 'green', 0),\n",
       "       ('2018-10-13 00:13:46.220', '42km WNW of Sola, Vanuatu', 'mww', 5.7, 'green', 0),\n",
       "       ('2018-10-12 21:09:49.240', '13km E of Nueva Concepcion, Guatemala', 'mww', 5.7, 'green', 0),\n",
       "       ('2018-10-12 02:52:03.620', '128km SE of Kimbe, Papua New Guinea', 'mww', 5.6, 'green', 1)],\n",
       "      dtype=[('time', '<U23'), ('place', '<U37'), ('magType', '<U3'), ('mag', '<f8'), ('alert', '<U5'), ('tsunami', '<i4')])"
      ]
     },
     "execution_count": 3,
     "metadata": {},
     "output_type": "execute_result"
    }
   ],
   "source": [
    "import numpy as np\n",
    "\n",
    "data = np.genfromtxt('data/example_data.csv', delimiter=';', names=True, dtype=None, encoding='UTF')\n",
    "\n",
    "data"
   ]
  },
  {
   "cell_type": "markdown",
   "metadata": {},
   "source": [
    "### numpy.genfromtxt\n",
    "\n",
    "* Load data from a text file, with missing values handled as specified\n",
    "* 텍스트 파일 읽는 함수\n",
    "* parameter\n",
    "    * delimiter : str, int, or sequence, optional\n",
    "        * 배열의 요소를 나누어 입력하기 위한 구분문자를 입력받는 파라미터\n",
    "        * 기본값은 None으로 탭과 스페이스 같은 빈 공간을 나눈다.\n",
    "    * autostrip : bool, optional\n",
    "        * 스페이스와 같은 공간을 자동으로 없애버리는 기능을 가진 파라미터\n",
    "        * 기본값은 False(거짓)\n",
    "        * 문자열 등의 자료형을 넣을 경우 유용\n",
    "    * comments : str, optional\n",
    "        * 텍스트 파일에 주석이 포함되어 있는 경우, 주석을 제거하는 기능을 가진 파라미터\n",
    "        * 기본값은 None\n",
    "        * 주석에 해당하는 문자(열)(ex - #)을 입력하면 된다.\n",
    "    * skip_header & skip footer : int, optional\n",
    "        * 파일 전후단에 필요없는 데이터가 있을 경우 필터링하는 파라미터\n",
    "        * 해당 변수들은 정수 입력으로 해당되는 라인까지 제거\n",
    "    * usecols : sequence, optional\n",
    "        * 사용하고자 하는 열을 선택하는 파라미터\n",
    "        * 정수 혹은 시퀀스 입력\n",
    "    * names : {None, True, str, sequence}, optional\n",
    "        * 열의 인덱스에 이름을 부여할 수 있는 파라미터\n",
    "        * True인 경우 텍스트의 첫 번째 줄에서 names를 가져오는 파라미터\n",
    "    * defaultfmt : str, optional\n",
    "        * 열 이름을 입력하고자 하고, 열 이름을 정해진 형식에 맞춰 입력하고자 할 때 사용하는 파라미터\n",
    "        * 문자열 형태로 입력 \n",
    "        * 기본값은 'f%i'\n",
    "        * %i 대신 %02i로 입력할 경우 2자리 수로 입력\n",
    "    * converters : variable, optional\n",
    "        * 특별한 양식의 데이터 형식(예 : 날짜[yyyy/mm/dd], 퍼센트[xx%] 등)에서 데이터를 추출할 때 사용하는 파라미터\n",
    "    * missing_values : variable, optional\n",
    "        * 기본적으로 빈 문자열은 누락된 것으로 여겨 누락되거나 유효하지 않은 데이터를 표현하기 위해 특수한 문자열(예 : N/A, ??? 등)과 같은 복잡한 문자열을 고려하는 파라미터\n",
    "    * filling_values : variable, optional\n",
    "        * 데이터가 누락되었다는 것을 표시하는 파라미터\n",
    "        * 누락된 데이터 위치에 채우는 기본값은 자료형아 따라 다름\n",
    "    * usemask : bool, optional\n",
    "        * usemask 변수를 True로 설정하면 불린마스크(boolean mask)를 구성하여 누락된 데이터의 발생을 추적하는 파라미터\n",
    "        * usemask를 True로 설정하면 MaskedArray가 출력으로 나오며 누락됐으면 True 아니면 False를 출력"
   ]
  },
  {
   "cell_type": "code",
   "execution_count": 4,
   "metadata": {},
   "outputs": [
    {
     "data": {
      "text/plain": [
       "(5,)"
      ]
     },
     "execution_count": 4,
     "metadata": {},
     "output_type": "execute_result"
    }
   ],
   "source": [
    "# shape : array 차원\n",
    "\n",
    "data.shape"
   ]
  },
  {
   "cell_type": "code",
   "execution_count": 5,
   "metadata": {},
   "outputs": [
    {
     "data": {
      "text/plain": [
       "dtype([('time', '<U23'), ('place', '<U37'), ('magType', '<U3'), ('mag', '<f8'), ('alert', '<U5'), ('tsunami', '<i4')])"
      ]
     },
     "execution_count": 5,
     "metadata": {},
     "output_type": "execute_result"
    }
   ],
   "source": [
    "# dtype : array 데이터 유형\n",
    "\n",
    "data.dtype"
   ]
  },
  {
   "cell_type": "markdown",
   "metadata": {},
   "source": [
    "### dtype\n",
    "  \n",
    "  \n",
    "  \n",
    "__byte order__  \n",
    "* '>' : big-endian\n",
    "* '<' : little-endian\n",
    "  \n",
    "__________________\n",
    "\n",
    "__array-protocol type__  \n",
    "* ? : boolena\n",
    "* b : (signed) byte\n",
    "* B : unsigned byte\n",
    "* i : (signed) integer\n",
    "* u : unsigned integer\n",
    "* f : floating-point\n",
    "* c : complex-floating point\n",
    "* m : timedelta\n",
    "* M : datetime\n",
    "* O : (Python) objects\n",
    "* S, a : zero-terminated bytes (not recommended)\n",
    "* U : Unicode string\n",
    "* V : raw data (void)\n",
    "  \n",
    "___________________________\n",
    "\n",
    "__data의 dtype 해석__\n",
    "* U23 : 23-character string\n",
    "* U37 : 37-character string\n",
    "* U3 :3-character string\n",
    "* f8 : 64-bit floating-point number\n",
    "* U5 : 5-character string\n",
    "* i4 : 32-bit signed integer"
   ]
  },
  {
   "cell_type": "code",
   "execution_count": 6,
   "metadata": {},
   "outputs": [
    {
     "data": {
      "text/plain": [
       "{'time': array(['2018-10-13 11:10:23.560', '2018-10-13 04:34:15.580',\n",
       "        '2018-10-13 00:13:46.220', '2018-10-12 21:09:49.240',\n",
       "        '2018-10-12 02:52:03.620'], dtype='<U23'),\n",
       " 'place': array(['262km NW of Ozernovskiy, Russia', '25km E of Bitung, Indonesia',\n",
       "        '42km WNW of Sola, Vanuatu',\n",
       "        '13km E of Nueva Concepcion, Guatemala',\n",
       "        '128km SE of Kimbe, Papua New Guinea'], dtype='<U37'),\n",
       " 'magType': array(['mww', 'mww', 'mww', 'mww', 'mww'], dtype='<U3'),\n",
       " 'mag': array([6.7, 5.2, 5.7, 5.7, 5.6]),\n",
       " 'alert': array(['green', 'green', 'green', 'green', 'green'], dtype='<U5'),\n",
       " 'tsunami': array([1, 0, 0, 0, 1])}"
      ]
     },
     "execution_count": 6,
     "metadata": {},
     "output_type": "execute_result"
    }
   ],
   "source": [
    "array_dict = {}\n",
    "\n",
    "for i, col in enumerate(data.dtype.names):       # col : time, place, magType, mag, alert, tsunami\n",
    "    array_dict[col] = np.array([row[i] for row in data])\n",
    "    \n",
    "array_dict"
   ]
  },
  {
   "cell_type": "code",
   "execution_count": 11,
   "metadata": {},
   "outputs": [
    {
     "data": {
      "text/plain": [
       "{'time': array(['2018-10-13 11:10:23.560', '2018-10-13 04:34:15.580',\n",
       "        '2018-10-13 00:13:46.220', '2018-10-12 21:09:49.240',\n",
       "        '2018-10-12 02:52:03.620'], dtype='<U23'),\n",
       " 'place': array(['262km NW of Ozernovskiy, Russia', '25km E of Bitung, Indonesia',\n",
       "        '42km WNW of Sola, Vanuatu',\n",
       "        '13km E of Nueva Concepcion, Guatemala',\n",
       "        '128km SE of Kimbe, Papua New Guinea'], dtype='<U37'),\n",
       " 'magType': array(['mww', 'mww', 'mww', 'mww', 'mww'], dtype='<U3'),\n",
       " 'mag': array([6.7, 5.2, 5.7, 5.7, 5.6]),\n",
       " 'alert': array(['green', 'green', 'green', 'green', 'green'], dtype='<U5'),\n",
       " 'tsunami': array([1, 0, 0, 0, 1])}"
      ]
     },
     "execution_count": 11,
     "metadata": {},
     "output_type": "execute_result"
    }
   ],
   "source": [
    "# 위의 코드를 다르게 표현\n",
    "\n",
    "array_dict1 = {}\n",
    "\n",
    "for i, col in enumerate(data.dtype.names):\n",
    "    column = []\n",
    "    for row in data:\n",
    "        column.append(row[i])\n",
    "    array_dict1[col] = np.array(column)\n",
    "    \n",
    "array_dict1"
   ]
  },
  {
   "cell_type": "markdown",
   "metadata": {},
   "source": [
    "### numpy.dtype.names\n",
    "* ordered list of field names\n",
    "* None if there are no fields"
   ]
  },
  {
   "cell_type": "code",
   "execution_count": 12,
   "metadata": {},
   "outputs": [
    {
     "data": {
      "text/plain": [
       "array(['2018-10-13 11:10:23.560', '262km NW of Ozernovskiy, Russia',\n",
       "       'mww', '6.7', 'green', '1'], dtype='<U31')"
      ]
     },
     "execution_count": 12,
     "metadata": {},
     "output_type": "execute_result"
    }
   ],
   "source": [
    "np.array([value[array_dict['mag'].argmax()] for key, value in array_dict.items()])"
   ]
  },
  {
   "cell_type": "markdown",
   "metadata": {},
   "source": [
    "### numpy.argmax(a, axis=None, out=None)\n",
    "* 차원에 따라 가장 큰 값의 인덱스 반환\n",
    "* returns the indices of the maximum values along an axis\n",
    "* parameters\n",
    "    * a : array_like\n",
    "    * axis : int, optional\n",
    "    * out : array, optional"
   ]
  }
 ],
 "metadata": {
  "kernelspec": {
   "display_name": "Python 3",
   "language": "python",
   "name": "python3"
  },
  "language_info": {
   "codemirror_mode": {
    "name": "ipython",
    "version": 3
   },
   "file_extension": ".py",
   "mimetype": "text/x-python",
   "name": "python",
   "nbconvert_exporter": "python",
   "pygments_lexer": "ipython3",
   "version": "3.7.3"
  }
 },
 "nbformat": 4,
 "nbformat_minor": 2
}
